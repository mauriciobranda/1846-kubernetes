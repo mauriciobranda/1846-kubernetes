{
 "cells": [
  {
   "cell_type": "markdown",
   "id": "0bf745a4",
   "metadata": {
    "papermill": {
     "duration": 0.006458,
     "end_time": "2022-08-09T21:56:01.150973",
     "exception": false,
     "start_time": "2022-08-09T21:56:01.144515",
     "status": "completed"
    },
    "tags": []
   },
   "source": [
    "**This notebook is an exercise in the [Pandas](https://www.kaggle.com/learn/pandas) course.  You can reference the tutorial at [this link](https://www.kaggle.com/residentmario/creating-reading-and-writing).**\n",
    "\n",
    "---\n"
   ]
  },
  {
   "cell_type": "markdown",
   "id": "ed53cd1e",
   "metadata": {
    "papermill": {
     "duration": 0.004931,
     "end_time": "2022-08-09T21:56:01.161360",
     "exception": false,
     "start_time": "2022-08-09T21:56:01.156429",
     "status": "completed"
    },
    "tags": []
   },
   "source": [
    "# Introduction\n",
    "\n",
    "The first step in most data analytics projects is reading the data file. In this exercise, you'll create Series and DataFrame objects, both by hand and by reading data files.\n",
    "\n",
    "Run the code cell below to load libraries you will need (including code to check your answers)."
   ]
  },
  {
   "cell_type": "code",
   "execution_count": 1,
   "id": "aa23bcbd",
   "metadata": {
    "execution": {
     "iopub.execute_input": "2022-08-09T21:56:01.174396Z",
     "iopub.status.busy": "2022-08-09T21:56:01.173646Z",
     "iopub.status.idle": "2022-08-09T21:56:02.872136Z",
     "shell.execute_reply": "2022-08-09T21:56:02.871222Z"
    },
    "papermill": {
     "duration": 1.707984,
     "end_time": "2022-08-09T21:56:02.874708",
     "exception": false,
     "start_time": "2022-08-09T21:56:01.166724",
     "status": "completed"
    },
    "tags": []
   },
   "outputs": [
    {
     "name": "stdout",
     "output_type": "stream",
     "text": [
      "Setup complete.\n"
     ]
    }
   ],
   "source": [
    "import pandas as pd\n",
    "pd.set_option('max_rows', 5)\n",
    "from learntools.core import binder; binder.bind(globals())\n",
    "from learntools.pandas.creating_reading_and_writing import *\n",
    "print(\"Setup complete.\")"
   ]
  },
  {
   "cell_type": "markdown",
   "id": "6c52f85e",
   "metadata": {
    "papermill": {
     "duration": 0.005058,
     "end_time": "2022-08-09T21:56:02.885301",
     "exception": false,
     "start_time": "2022-08-09T21:56:02.880243",
     "status": "completed"
    },
    "tags": []
   },
   "source": [
    "# Exercises"
   ]
  },
  {
   "cell_type": "markdown",
   "id": "fd3b7a1e",
   "metadata": {
    "papermill": {
     "duration": 0.004949,
     "end_time": "2022-08-09T21:56:02.895580",
     "exception": false,
     "start_time": "2022-08-09T21:56:02.890631",
     "status": "completed"
    },
    "tags": []
   },
   "source": [
    "## 1.\n",
    "\n",
    "In the cell below, create a DataFrame `fruits` that looks like this:\n",
    "\n",
    "![](https://i.imgur.com/Ax3pp2A.png)"
   ]
  },
  {
   "cell_type": "code",
   "execution_count": 2,
   "id": "204982a4",
   "metadata": {
    "execution": {
     "iopub.execute_input": "2022-08-09T21:56:02.908386Z",
     "iopub.status.busy": "2022-08-09T21:56:02.907695Z",
     "iopub.status.idle": "2022-08-09T21:56:02.927660Z",
     "shell.execute_reply": "2022-08-09T21:56:02.926354Z"
    },
    "papermill": {
     "duration": 0.029077,
     "end_time": "2022-08-09T21:56:02.930020",
     "exception": false,
     "start_time": "2022-08-09T21:56:02.900943",
     "status": "completed"
    },
    "tags": []
   },
   "outputs": [
    {
     "data": {
      "application/javascript": [
       "parent.postMessage({\"jupyterEvent\": \"custom.exercise_interaction\", \"data\": {\"outcomeType\": 1, \"valueTowardsCompletion\": 0.16666666666666666, \"interactionType\": 1, \"questionType\": 1, \"questionId\": \"1_FruitDfCreation\", \"learnToolsVersion\": \"0.3.4\", \"failureMessage\": \"\", \"exceptionClass\": \"\", \"trace\": \"\"}}, \"*\")"
      ],
      "text/plain": [
       "<IPython.core.display.Javascript object>"
      ]
     },
     "metadata": {},
     "output_type": "display_data"
    },
    {
     "data": {
      "text/markdown": [
       "<span style=\"color:#33cc33\">Correct</span>"
      ],
      "text/plain": [
       "Correct"
      ]
     },
     "metadata": {},
     "output_type": "display_data"
    },
    {
     "data": {
      "text/html": [
       "<div>\n",
       "<style scoped>\n",
       "    .dataframe tbody tr th:only-of-type {\n",
       "        vertical-align: middle;\n",
       "    }\n",
       "\n",
       "    .dataframe tbody tr th {\n",
       "        vertical-align: top;\n",
       "    }\n",
       "\n",
       "    .dataframe thead th {\n",
       "        text-align: right;\n",
       "    }\n",
       "</style>\n",
       "<table border=\"1\" class=\"dataframe\">\n",
       "  <thead>\n",
       "    <tr style=\"text-align: right;\">\n",
       "      <th></th>\n",
       "      <th>Apples</th>\n",
       "      <th>Bananas</th>\n",
       "    </tr>\n",
       "  </thead>\n",
       "  <tbody>\n",
       "    <tr>\n",
       "      <th>0</th>\n",
       "      <td>30</td>\n",
       "      <td>21</td>\n",
       "    </tr>\n",
       "  </tbody>\n",
       "</table>\n",
       "</div>"
      ],
      "text/plain": [
       "   Apples  Bananas\n",
       "0      30       21"
      ]
     },
     "execution_count": 2,
     "metadata": {},
     "output_type": "execute_result"
    }
   ],
   "source": [
    "# Your code goes here. Create a dataframe matching the above diagram and assign it to the variable fruits.\n",
    "d = {'Apples': [30], 'Bananas': [21]}\n",
    "fruits = pd.DataFrame(data=d)\n",
    "# Check your answer\n",
    "q1.check()\n",
    "fruits"
   ]
  },
  {
   "cell_type": "code",
   "execution_count": 3,
   "id": "4ff75ded",
   "metadata": {
    "execution": {
     "iopub.execute_input": "2022-08-09T21:56:02.944631Z",
     "iopub.status.busy": "2022-08-09T21:56:02.943602Z",
     "iopub.status.idle": "2022-08-09T21:56:02.948613Z",
     "shell.execute_reply": "2022-08-09T21:56:02.947763Z"
    },
    "papermill": {
     "duration": 0.01505,
     "end_time": "2022-08-09T21:56:02.950892",
     "exception": false,
     "start_time": "2022-08-09T21:56:02.935842",
     "status": "completed"
    },
    "tags": []
   },
   "outputs": [],
   "source": [
    "#q1.hint()\n",
    "#q1.solution()"
   ]
  },
  {
   "cell_type": "markdown",
   "id": "28b85347",
   "metadata": {
    "papermill": {
     "duration": 0.005427,
     "end_time": "2022-08-09T21:56:02.962268",
     "exception": false,
     "start_time": "2022-08-09T21:56:02.956841",
     "status": "completed"
    },
    "tags": []
   },
   "source": [
    "## 2.\n",
    "\n",
    "Create a dataframe `fruit_sales` that matches the diagram below:\n",
    "\n",
    "![](https://i.imgur.com/CHPn7ZF.png)"
   ]
  },
  {
   "cell_type": "code",
   "execution_count": 4,
   "id": "6eec17a8",
   "metadata": {
    "execution": {
     "iopub.execute_input": "2022-08-09T21:56:02.975775Z",
     "iopub.status.busy": "2022-08-09T21:56:02.974987Z",
     "iopub.status.idle": "2022-08-09T21:56:02.992199Z",
     "shell.execute_reply": "2022-08-09T21:56:02.991197Z"
    },
    "papermill": {
     "duration": 0.026477,
     "end_time": "2022-08-09T21:56:02.994495",
     "exception": false,
     "start_time": "2022-08-09T21:56:02.968018",
     "status": "completed"
    },
    "tags": []
   },
   "outputs": [
    {
     "data": {
      "application/javascript": [
       "parent.postMessage({\"jupyterEvent\": \"custom.exercise_interaction\", \"data\": {\"outcomeType\": 1, \"valueTowardsCompletion\": 0.16666666666666666, \"interactionType\": 1, \"questionType\": 1, \"questionId\": \"2_FruitSalesDfCreation\", \"learnToolsVersion\": \"0.3.4\", \"failureMessage\": \"\", \"exceptionClass\": \"\", \"trace\": \"\"}}, \"*\")"
      ],
      "text/plain": [
       "<IPython.core.display.Javascript object>"
      ]
     },
     "metadata": {},
     "output_type": "display_data"
    },
    {
     "data": {
      "text/markdown": [
       "<span style=\"color:#33cc33\">Correct</span>"
      ],
      "text/plain": [
       "Correct"
      ]
     },
     "metadata": {},
     "output_type": "display_data"
    },
    {
     "data": {
      "text/html": [
       "<div>\n",
       "<style scoped>\n",
       "    .dataframe tbody tr th:only-of-type {\n",
       "        vertical-align: middle;\n",
       "    }\n",
       "\n",
       "    .dataframe tbody tr th {\n",
       "        vertical-align: top;\n",
       "    }\n",
       "\n",
       "    .dataframe thead th {\n",
       "        text-align: right;\n",
       "    }\n",
       "</style>\n",
       "<table border=\"1\" class=\"dataframe\">\n",
       "  <thead>\n",
       "    <tr style=\"text-align: right;\">\n",
       "      <th></th>\n",
       "      <th>Apples</th>\n",
       "      <th>Bananas</th>\n",
       "    </tr>\n",
       "  </thead>\n",
       "  <tbody>\n",
       "    <tr>\n",
       "      <th>2017 Sales</th>\n",
       "      <td>35</td>\n",
       "      <td>21</td>\n",
       "    </tr>\n",
       "    <tr>\n",
       "      <th>2018 Sales</th>\n",
       "      <td>41</td>\n",
       "      <td>34</td>\n",
       "    </tr>\n",
       "  </tbody>\n",
       "</table>\n",
       "</div>"
      ],
      "text/plain": [
       "            Apples  Bananas\n",
       "2017 Sales      35       21\n",
       "2018 Sales      41       34"
      ]
     },
     "execution_count": 4,
     "metadata": {},
     "output_type": "execute_result"
    }
   ],
   "source": [
    "# Your code goes here. Create a dataframe matching the above diagram and assign it to the variable fruit_sales.\n",
    "fruits = {'Apples': [35, 41], 'Bananas': [21,34]}\n",
    "fruit_sales = pd.DataFrame(data=fruits, index=[\"2017 Sales\", \"2018 Sales\"])\n",
    "\n",
    "\n",
    "# Check your answer\n",
    "q2.check()\n",
    "fruit_sales"
   ]
  },
  {
   "cell_type": "code",
   "execution_count": 5,
   "id": "c0723e71",
   "metadata": {
    "execution": {
     "iopub.execute_input": "2022-08-09T21:56:03.009811Z",
     "iopub.status.busy": "2022-08-09T21:56:03.008913Z",
     "iopub.status.idle": "2022-08-09T21:56:03.018567Z",
     "shell.execute_reply": "2022-08-09T21:56:03.017329Z"
    },
    "papermill": {
     "duration": 0.019833,
     "end_time": "2022-08-09T21:56:03.020695",
     "exception": false,
     "start_time": "2022-08-09T21:56:03.000862",
     "status": "completed"
    },
    "tags": []
   },
   "outputs": [
    {
     "data": {
      "application/javascript": [
       "parent.postMessage({\"jupyterEvent\": \"custom.exercise_interaction\", \"data\": {\"interactionType\": 2, \"questionType\": 1, \"questionId\": \"2_FruitSalesDfCreation\", \"learnToolsVersion\": \"0.3.4\", \"valueTowardsCompletion\": 0.0, \"failureMessage\": \"\", \"exceptionClass\": \"\", \"trace\": \"\", \"outcomeType\": 4}}, \"*\")"
      ],
      "text/plain": [
       "<IPython.core.display.Javascript object>"
      ]
     },
     "metadata": {},
     "output_type": "display_data"
    },
    {
     "data": {
      "text/markdown": [
       "<span style=\"color:#3366cc\">Hint:</span> Set the row labels in the DataFrame by using the `index` parameter in `pd.DataFrame`."
      ],
      "text/plain": [
       "Hint: Set the row labels in the DataFrame by using the `index` parameter in `pd.DataFrame`."
      ]
     },
     "metadata": {},
     "output_type": "display_data"
    }
   ],
   "source": [
    "q2.hint()\n",
    "#q2.solution()"
   ]
  },
  {
   "cell_type": "markdown",
   "id": "54c40847",
   "metadata": {
    "papermill": {
     "duration": 0.006069,
     "end_time": "2022-08-09T21:56:03.033041",
     "exception": false,
     "start_time": "2022-08-09T21:56:03.026972",
     "status": "completed"
    },
    "tags": []
   },
   "source": [
    "## 3.\n",
    "\n",
    "Create a variable `ingredients` with a Series that looks like:\n",
    "\n",
    "```\n",
    "Flour     4 cups\n",
    "Milk       1 cup\n",
    "Eggs     2 large\n",
    "Spam       1 can\n",
    "Name: Dinner, dtype: object\n",
    "```"
   ]
  },
  {
   "cell_type": "code",
   "execution_count": 6,
   "id": "94e213c2",
   "metadata": {
    "execution": {
     "iopub.execute_input": "2022-08-09T21:56:03.048058Z",
     "iopub.status.busy": "2022-08-09T21:56:03.047355Z",
     "iopub.status.idle": "2022-08-09T21:56:03.063101Z",
     "shell.execute_reply": "2022-08-09T21:56:03.061979Z"
    },
    "papermill": {
     "duration": 0.025951,
     "end_time": "2022-08-09T21:56:03.065361",
     "exception": false,
     "start_time": "2022-08-09T21:56:03.039410",
     "status": "completed"
    },
    "tags": []
   },
   "outputs": [
    {
     "name": "stdout",
     "output_type": "stream",
     "text": [
      "Flour     4 cups\n",
      "Milk       1 cup\n",
      "Eggs     2 large\n",
      "Spam       1 can\n",
      "Name: Dinner, dtype: object\n"
     ]
    },
    {
     "data": {
      "application/javascript": [
       "parent.postMessage({\"jupyterEvent\": \"custom.exercise_interaction\", \"data\": {\"outcomeType\": 1, \"valueTowardsCompletion\": 0.16666666666666666, \"interactionType\": 1, \"questionType\": 2, \"questionId\": \"3_RecipeSeriesCreation\", \"learnToolsVersion\": \"0.3.4\", \"failureMessage\": \"\", \"exceptionClass\": \"\", \"trace\": \"\"}}, \"*\")"
      ],
      "text/plain": [
       "<IPython.core.display.Javascript object>"
      ]
     },
     "metadata": {},
     "output_type": "display_data"
    },
    {
     "data": {
      "text/markdown": [
       "<span style=\"color:#33cc33\">Correct</span>"
      ],
      "text/plain": [
       "Correct"
      ]
     },
     "metadata": {},
     "output_type": "display_data"
    },
    {
     "data": {
      "text/plain": [
       "'Dinner'"
      ]
     },
     "execution_count": 6,
     "metadata": {},
     "output_type": "execute_result"
    }
   ],
   "source": [
    "d = {'Flour': \"4 cups\", 'Milk': '1 cup', 'Eggs': '2 large', 'Spam': '1 can'}\n",
    "ingredients = pd.Series(data=d, name='Dinner')\n",
    "print(ingredients)\n",
    "# Check your answer\n",
    "q3.check()\n",
    "ingredients.name\n",
    "#ingredients"
   ]
  },
  {
   "cell_type": "code",
   "execution_count": 7,
   "id": "012bc20d",
   "metadata": {
    "execution": {
     "iopub.execute_input": "2022-08-09T21:56:03.080980Z",
     "iopub.status.busy": "2022-08-09T21:56:03.080294Z",
     "iopub.status.idle": "2022-08-09T21:56:03.084684Z",
     "shell.execute_reply": "2022-08-09T21:56:03.083824Z"
    },
    "papermill": {
     "duration": 0.014723,
     "end_time": "2022-08-09T21:56:03.086865",
     "exception": false,
     "start_time": "2022-08-09T21:56:03.072142",
     "status": "completed"
    },
    "tags": []
   },
   "outputs": [],
   "source": [
    "#q3.hint()\n",
    "#q3.solution()"
   ]
  },
  {
   "cell_type": "markdown",
   "id": "28008428",
   "metadata": {
    "papermill": {
     "duration": 0.006398,
     "end_time": "2022-08-09T21:56:03.100783",
     "exception": false,
     "start_time": "2022-08-09T21:56:03.094385",
     "status": "completed"
    },
    "tags": []
   },
   "source": [
    "## 4.\n",
    "\n",
    "Read the following csv dataset of wine reviews into a DataFrame called `reviews`:\n",
    "\n",
    "![](https://i.imgur.com/74RCZtU.png)\n",
    "\n",
    "The filepath to the csv file is `../input/wine-reviews/winemag-data_first150k.csv`. The first few lines look like:\n",
    "\n",
    "```\n",
    ",country,description,designation,points,price,province,region_1,region_2,variety,winery\n",
    "0,US,\"This tremendous 100% varietal wine[...]\",Martha's Vineyard,96,235.0,California,Napa Valley,Napa,Cabernet Sauvignon,Heitz\n",
    "1,Spain,\"Ripe aromas of fig, blackberry and[...]\",Carodorum Selección Especial Reserva,96,110.0,Northern Spain,Toro,,Tinta de Toro,Bodega Carmen Rodríguez\n",
    "```"
   ]
  },
  {
   "cell_type": "code",
   "execution_count": 8,
   "id": "30fa6b24",
   "metadata": {
    "execution": {
     "iopub.execute_input": "2022-08-09T21:56:03.116471Z",
     "iopub.status.busy": "2022-08-09T21:56:03.115812Z",
     "iopub.status.idle": "2022-08-09T21:56:03.127404Z",
     "shell.execute_reply": "2022-08-09T21:56:03.126400Z"
    },
    "papermill": {
     "duration": 0.021977,
     "end_time": "2022-08-09T21:56:03.129658",
     "exception": false,
     "start_time": "2022-08-09T21:56:03.107681",
     "status": "completed"
    },
    "tags": []
   },
   "outputs": [
    {
     "data": {
      "application/javascript": [
       "parent.postMessage({\"jupyterEvent\": \"custom.exercise_interaction\", \"data\": {\"outcomeType\": 4, \"interactionType\": 1, \"questionType\": 1, \"questionId\": \"4_ReadWineCsv\", \"learnToolsVersion\": \"0.3.4\", \"valueTowardsCompletion\": 0.0, \"failureMessage\": \"\", \"exceptionClass\": \"\", \"trace\": \"\"}}, \"*\")"
      ],
      "text/plain": [
       "<IPython.core.display.Javascript object>"
      ]
     },
     "metadata": {},
     "output_type": "display_data"
    },
    {
     "data": {
      "text/markdown": [
       "<span style=\"color:#ccaa33\">Check:</span> When you've updated the starter code, `check()` will tell you whether your code is correct. You need to update the code that creates variable `reviews`"
      ],
      "text/plain": [
       "Check: When you've updated the starter code, `check()` will tell you whether your code is correct. You need to update the code that creates variable `reviews`"
      ]
     },
     "metadata": {},
     "output_type": "display_data"
    },
    {
     "data": {
      "text/markdown": [],
      "text/plain": [
       "<learntools.core.constants.PlaceholderValue at 0x7f9ed5f7c110>"
      ]
     },
     "execution_count": 8,
     "metadata": {},
     "output_type": "execute_result"
    }
   ],
   "source": [
    "reviews = ____\n",
    "\n",
    "# Check your answer\n",
    "q4.check()\n",
    "reviews"
   ]
  },
  {
   "cell_type": "code",
   "execution_count": 9,
   "id": "791613db",
   "metadata": {
    "execution": {
     "iopub.execute_input": "2022-08-09T21:56:03.145357Z",
     "iopub.status.busy": "2022-08-09T21:56:03.144967Z",
     "iopub.status.idle": "2022-08-09T21:56:03.149565Z",
     "shell.execute_reply": "2022-08-09T21:56:03.148365Z"
    },
    "papermill": {
     "duration": 0.015275,
     "end_time": "2022-08-09T21:56:03.152007",
     "exception": false,
     "start_time": "2022-08-09T21:56:03.136732",
     "status": "completed"
    },
    "tags": []
   },
   "outputs": [],
   "source": [
    "#q4.hint()\n",
    "#q4.solution()"
   ]
  },
  {
   "cell_type": "markdown",
   "id": "da234c8c",
   "metadata": {
    "papermill": {
     "duration": 0.006717,
     "end_time": "2022-08-09T21:56:03.165948",
     "exception": false,
     "start_time": "2022-08-09T21:56:03.159231",
     "status": "completed"
    },
    "tags": []
   },
   "source": [
    "## 5.\n",
    "\n",
    "Run the cell below to create and display a DataFrame called `animals`:"
   ]
  },
  {
   "cell_type": "code",
   "execution_count": 10,
   "id": "d2508a35",
   "metadata": {
    "execution": {
     "iopub.execute_input": "2022-08-09T21:56:03.182375Z",
     "iopub.status.busy": "2022-08-09T21:56:03.181569Z",
     "iopub.status.idle": "2022-08-09T21:56:03.193148Z",
     "shell.execute_reply": "2022-08-09T21:56:03.192037Z"
    },
    "papermill": {
     "duration": 0.022357,
     "end_time": "2022-08-09T21:56:03.195431",
     "exception": false,
     "start_time": "2022-08-09T21:56:03.173074",
     "status": "completed"
    },
    "tags": []
   },
   "outputs": [
    {
     "data": {
      "text/html": [
       "<div>\n",
       "<style scoped>\n",
       "    .dataframe tbody tr th:only-of-type {\n",
       "        vertical-align: middle;\n",
       "    }\n",
       "\n",
       "    .dataframe tbody tr th {\n",
       "        vertical-align: top;\n",
       "    }\n",
       "\n",
       "    .dataframe thead th {\n",
       "        text-align: right;\n",
       "    }\n",
       "</style>\n",
       "<table border=\"1\" class=\"dataframe\">\n",
       "  <thead>\n",
       "    <tr style=\"text-align: right;\">\n",
       "      <th></th>\n",
       "      <th>Cows</th>\n",
       "      <th>Goats</th>\n",
       "    </tr>\n",
       "  </thead>\n",
       "  <tbody>\n",
       "    <tr>\n",
       "      <th>Year 1</th>\n",
       "      <td>12</td>\n",
       "      <td>22</td>\n",
       "    </tr>\n",
       "    <tr>\n",
       "      <th>Year 2</th>\n",
       "      <td>20</td>\n",
       "      <td>19</td>\n",
       "    </tr>\n",
       "  </tbody>\n",
       "</table>\n",
       "</div>"
      ],
      "text/plain": [
       "        Cows  Goats\n",
       "Year 1    12     22\n",
       "Year 2    20     19"
      ]
     },
     "execution_count": 10,
     "metadata": {},
     "output_type": "execute_result"
    }
   ],
   "source": [
    "animals = pd.DataFrame({'Cows': [12, 20], 'Goats': [22, 19]}, index=['Year 1', 'Year 2'])\n",
    "animals"
   ]
  },
  {
   "cell_type": "markdown",
   "id": "d3b63d79",
   "metadata": {
    "papermill": {
     "duration": 0.006908,
     "end_time": "2022-08-09T21:56:03.209714",
     "exception": false,
     "start_time": "2022-08-09T21:56:03.202806",
     "status": "completed"
    },
    "tags": []
   },
   "source": [
    "In the cell below, write code to save this DataFrame to disk as a csv file with the name `cows_and_goats.csv`."
   ]
  },
  {
   "cell_type": "code",
   "execution_count": 11,
   "id": "ab3c8051",
   "metadata": {
    "execution": {
     "iopub.execute_input": "2022-08-09T21:56:03.226740Z",
     "iopub.status.busy": "2022-08-09T21:56:03.225536Z",
     "iopub.status.idle": "2022-08-09T21:56:03.235263Z",
     "shell.execute_reply": "2022-08-09T21:56:03.234386Z"
    },
    "papermill": {
     "duration": 0.020489,
     "end_time": "2022-08-09T21:56:03.237549",
     "exception": false,
     "start_time": "2022-08-09T21:56:03.217060",
     "status": "completed"
    },
    "tags": []
   },
   "outputs": [
    {
     "data": {
      "application/javascript": [
       "parent.postMessage({\"jupyterEvent\": \"custom.exercise_interaction\", \"data\": {\"outcomeType\": 2, \"failureMessage\": \"Expected file to exist with name `cows_and_goats.csv`\", \"interactionType\": 1, \"questionType\": 2, \"questionId\": \"5_SaveAnimalsCsv\", \"learnToolsVersion\": \"0.3.4\", \"valueTowardsCompletion\": 0.0, \"exceptionClass\": \"\", \"trace\": \"\"}}, \"*\")"
      ],
      "text/plain": [
       "<IPython.core.display.Javascript object>"
      ]
     },
     "metadata": {},
     "output_type": "display_data"
    },
    {
     "data": {
      "text/markdown": [
       "<span style=\"color:#cc3333\">Incorrect:</span> Expected file to exist with name `cows_and_goats.csv`"
      ],
      "text/plain": [
       "Incorrect: Expected file to exist with name `cows_and_goats.csv`"
      ]
     },
     "metadata": {},
     "output_type": "display_data"
    }
   ],
   "source": [
    "# Your code goes here\n",
    "\n",
    "# Check your answer\n",
    "q5.check()"
   ]
  },
  {
   "cell_type": "code",
   "execution_count": 12,
   "id": "1377ed11",
   "metadata": {
    "execution": {
     "iopub.execute_input": "2022-08-09T21:56:03.254799Z",
     "iopub.status.busy": "2022-08-09T21:56:03.253634Z",
     "iopub.status.idle": "2022-08-09T21:56:03.258557Z",
     "shell.execute_reply": "2022-08-09T21:56:03.257756Z"
    },
    "papermill": {
     "duration": 0.015955,
     "end_time": "2022-08-09T21:56:03.260842",
     "exception": false,
     "start_time": "2022-08-09T21:56:03.244887",
     "status": "completed"
    },
    "tags": []
   },
   "outputs": [],
   "source": [
    "#q5.hint()\n",
    "#q5.solution()"
   ]
  },
  {
   "cell_type": "markdown",
   "id": "ba57c43a",
   "metadata": {
    "papermill": {
     "duration": 0.007133,
     "end_time": "2022-08-09T21:56:03.275415",
     "exception": false,
     "start_time": "2022-08-09T21:56:03.268282",
     "status": "completed"
    },
    "tags": []
   },
   "source": [
    "# Keep going\n",
    "\n",
    "Move on to learn about **[indexing, selecting and assigning](https://www.kaggle.com/residentmario/indexing-selecting-assigning)**."
   ]
  },
  {
   "cell_type": "markdown",
   "id": "c23e447b",
   "metadata": {
    "papermill": {
     "duration": 0.006935,
     "end_time": "2022-08-09T21:56:03.289624",
     "exception": false,
     "start_time": "2022-08-09T21:56:03.282689",
     "status": "completed"
    },
    "tags": []
   },
   "source": [
    "---\n",
    "\n",
    "\n",
    "\n",
    "\n",
    "*Have questions or comments? Visit the [course discussion forum](https://www.kaggle.com/learn/pandas/discussion) to chat with other learners.*"
   ]
  }
 ],
 "metadata": {
  "kernelspec": {
   "display_name": "Python 3",
   "language": "python",
   "name": "python3"
  },
  "language_info": {
   "codemirror_mode": {
    "name": "ipython",
    "version": 3
   },
   "file_extension": ".py",
   "mimetype": "text/x-python",
   "name": "python",
   "nbconvert_exporter": "python",
   "pygments_lexer": "ipython3",
   "version": "3.7.12"
  },
  "papermill": {
   "default_parameters": {},
   "duration": 12.596108,
   "end_time": "2022-08-09T21:56:04.019197",
   "environment_variables": {},
   "exception": null,
   "input_path": "__notebook__.ipynb",
   "output_path": "__notebook__.ipynb",
   "parameters": {},
   "start_time": "2022-08-09T21:55:51.423089",
   "version": "2.3.4"
  }
 },
 "nbformat": 4,
 "nbformat_minor": 5
}
